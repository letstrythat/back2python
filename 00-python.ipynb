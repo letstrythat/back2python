{
 "cells": [
  {
   "cell_type": "markdown",
   "metadata": {},
   "source": [
    "# Remise à niveau Python\n",
    "\n",
    "Toutes les séances de notre module seront présentées dans des documents au format iPython notebook, associé à l'extension `.ipynb`.  \n",
    "Ce format permet de joindre dans le même document:\n",
    "\n",
    "- du texte dans un format à balises simple, le format [markdown](http://markdowntutorial.com/),\n",
    "- du code à exécuter en [Python](https://docs.python.org/3.7/) (ici la version 3.7),\n",
    "- le résultat des commandes Python à la suite des cellules, que ce soit un résultat textuel ou une image.\n",
    "\n",
    "### À noter\n",
    "Les cellules en jaune (sur le modèle suivant) sont des exercices à faire!\n",
    "<div class=\"alert alert-warning\" style=\"margin-top: 1em\"><b>Exercice</b>: Faire les exercices</div>"
   ]
  },
  {
   "cell_type": "markdown",
   "metadata": {},
   "source": [
    "## Quelques éléments de syntaxe Python\n",
    "\n",
    "Python est un langage typé dynamiquement, on n’est donc pas obligé de déclarer le type des variables.  \n",
    "On pourra par exemple exécuter le programme suivant en plaçant le curseur dans la cellule et en tapant `Maj+Enter`."
   ]
  },
  {
   "cell_type": "code",
   "execution_count": null,
   "metadata": {},
   "outputs": [],
   "source": [
    "a = 3\n",
    "b = 4.0\n",
    "c = \"a * b : \"\n",
    "print(c + str(a * b))"
   ]
  },
  {
   "cell_type": "code",
   "execution_count": null,
   "metadata": {},
   "outputs": [],
   "source": [
    "# On préférera cette notation\n",
    "print(\"a * b : {}\".format(a * b))"
   ]
  },
  {
   "cell_type": "markdown",
   "metadata": {},
   "source": [
    "Les opérateurs habituels sur les entiers et les flottants sont disponibles.  \n",
    "La boucle `for` permet de parcourir des objets itérables comme des listes, des tuples etc.  \n",
    "La fonction `range` permet de générer une séquence d’entiers :"
   ]
  },
  {
   "cell_type": "code",
   "execution_count": null,
   "metadata": {
    "scrolled": true
   },
   "outputs": [],
   "source": [
    "for x in range(2, 7):  # le 7 est exclu\n",
    "    print(x)"
   ]
  },
  {
   "cell_type": "markdown",
   "metadata": {},
   "source": [
    "<div class=\"alert alert-danger\">\n",
    "<b>Important :</b> vous remarquerez ici que l’indentation est importante en Python. Elle permet de définir les blocs.  \n",
    "</div>\n",
    "La conditionnelle est définie classiquement :"
   ]
  },
  {
   "cell_type": "code",
   "execution_count": null,
   "metadata": {},
   "outputs": [],
   "source": [
    "if a == 3:\n",
    "    print(\"a = 3\")\n",
    "else:\n",
    "    print(\"a = something else...\")"
   ]
  },
  {
   "cell_type": "markdown",
   "metadata": {},
   "source": [
    "Le mot clé pour définir une fonction est `def`.\n",
    "La documentation d'une fonction peut-être écrite au format `__doctest__` en utilisant les triples guillemets.\n",
    "Les exemples d'utilisation indiqués dans la documentation `__doctest__` servent de test unitaire."
   ]
  },
  {
   "cell_type": "code",
   "execution_count": null,
   "metadata": {},
   "outputs": [],
   "source": [
    "def fact(n):\n",
    "    \"\"\"Renvoie la factorielle de n.\n",
    "    \n",
    "    >>> fact(6)\n",
    "    720\n",
    "    >>> [fact(n) for n in range(6)]\n",
    "    [1, 1, 2, 6, 24, 120]\n",
    "    \n",
    "    Si n est négatif, une exception de type ValueError est levée.\n",
    "    >>> fact(-1)\n",
    "    Traceback (most recent call last):\n",
    "        ...\n",
    "    ValueError: n doit être un entier positif\n",
    "    \"\"\"\n",
    "    res = 1\n",
    "    if n < 0:\n",
    "        raise ValueError(\"n doit être un entier positif\")\n",
    "    while n > 0:\n",
    "        res = n * res\n",
    "        n = n - 1\n",
    "    return res\n"
   ]
  },
  {
   "cell_type": "code",
   "execution_count": null,
   "metadata": {
    "scrolled": true
   },
   "outputs": [],
   "source": [
    "fact(6)"
   ]
  },
  {
   "cell_type": "markdown",
   "metadata": {},
   "source": [
    "Il est important de bien remplir la documentation, on pourrait en avoir besoin par la suite:"
   ]
  },
  {
   "cell_type": "code",
   "execution_count": null,
   "metadata": {},
   "outputs": [],
   "source": [
    "help(fact)"
   ]
  },
  {
   "cell_type": "markdown",
   "metadata": {},
   "source": [
    "La fonction `doctest.testmod()` permet de tester toutes les fonctions d'un module donné (ici `__main__`):"
   ]
  },
  {
   "cell_type": "code",
   "execution_count": null,
   "metadata": {
    "scrolled": true
   },
   "outputs": [],
   "source": [
    "import doctest\n",
    "doctest.testmod()"
   ]
  },
  {
   "cell_type": "markdown",
   "metadata": {},
   "source": [
    "Le format iPython notebook permet également de consulter la documentation dans une pop-up à part:"
   ]
  },
  {
   "cell_type": "code",
   "execution_count": null,
   "metadata": {},
   "outputs": [],
   "source": [
    "?fact"
   ]
  },
  {
   "cell_type": "markdown",
   "metadata": {},
   "source": [
    "**Note :**\n",
    "\n",
    "Si vous rencontrez des difficultés de syntaxe Python, vous pouvez consulter:\n",
    "\n",
    "- la documentation officielle https://docs.python.org/3.7/,\n",
    "- ce [site](https://www.google.fr) bien pratique, ou mieux, [celui-ci](https://duckduckgo.com/)."
   ]
  },
  {
   "cell_type": "markdown",
   "metadata": {},
   "source": [
    "## Structures de données\n",
    "\n",
    "Python propose un certain nombres de structures de données de base munies de facilités syntaxiques et algorithmiques.\n",
    "\n",
    "<div class=\"alert alert-success\" style=\"margin-top: 1em\">\n",
    "<b>Règle no.1</b> Tout l'art de la programmation Python consiste à choisir (et adapter) les bonnes structures de données.\n",
    "</div>\n",
    "\n",
    "### Chaînes de caractères\n",
    "\n",
    "Les chaînes de caractères sont écrites à l’aide de guillemets simples, doubles ou retriplées (multi-lignes)."
   ]
  },
  {
   "cell_type": "code",
   "execution_count": null,
   "metadata": {},
   "outputs": [],
   "source": [
    "\"hel\" + 'lo'"
   ]
  },
  {
   "cell_type": "code",
   "execution_count": null,
   "metadata": {},
   "outputs": [],
   "source": [
    "a = \"\"\"Hello\n",
    "- dear students;\n",
    "- dear all\"\"\"\n",
    "\n",
    "print (a)"
   ]
  },
  {
   "cell_type": "code",
   "execution_count": null,
   "metadata": {},
   "outputs": [],
   "source": [
    "a[0]"
   ]
  },
  {
   "cell_type": "code",
   "execution_count": null,
   "metadata": {},
   "outputs": [],
   "source": [
    "a[2:4]"
   ]
  },
  {
   "cell_type": "code",
   "execution_count": null,
   "metadata": {},
   "outputs": [],
   "source": [
    "a[-1]"
   ]
  },
  {
   "cell_type": "code",
   "execution_count": null,
   "metadata": {},
   "outputs": [],
   "source": [
    "a[-8:]"
   ]
  },
  {
   "cell_type": "code",
   "execution_count": null,
   "metadata": {},
   "outputs": [],
   "source": [
    "a = \"heLLo\"\n",
    "(a + ' ') * 2"
   ]
  },
  {
   "cell_type": "code",
   "execution_count": null,
   "metadata": {},
   "outputs": [],
   "source": [
    "len(a)"
   ]
  },
  {
   "cell_type": "code",
   "execution_count": null,
   "metadata": {},
   "outputs": [],
   "source": [
    "a.capitalize()"
   ]
  },
  {
   "cell_type": "code",
   "execution_count": null,
   "metadata": {},
   "outputs": [],
   "source": [
    "\" hello \".strip()"
   ]
  },
  {
   "cell_type": "code",
   "execution_count": null,
   "metadata": {},
   "outputs": [],
   "source": [
    "\"hello y’all\".split() "
   ]
  },
  {
   "cell_type": "markdown",
   "metadata": {},
   "source": [
    "### Listes"
   ]
  },
  {
   "cell_type": "code",
   "execution_count": null,
   "metadata": {},
   "outputs": [],
   "source": [
    "a = [1, \"deux\", 3.0]"
   ]
  },
  {
   "cell_type": "code",
   "execution_count": null,
   "metadata": {},
   "outputs": [],
   "source": [
    "a[0]"
   ]
  },
  {
   "cell_type": "code",
   "execution_count": null,
   "metadata": {},
   "outputs": [],
   "source": [
    "len(a)"
   ]
  },
  {
   "cell_type": "code",
   "execution_count": null,
   "metadata": {},
   "outputs": [],
   "source": [
    "a.append(1)"
   ]
  },
  {
   "cell_type": "code",
   "execution_count": null,
   "metadata": {},
   "outputs": [],
   "source": [
    "a"
   ]
  },
  {
   "cell_type": "code",
   "execution_count": null,
   "metadata": {},
   "outputs": [],
   "source": [
    "a.count(1)"
   ]
  },
  {
   "cell_type": "code",
   "execution_count": null,
   "metadata": {},
   "outputs": [],
   "source": [
    "3 in a"
   ]
  },
  {
   "cell_type": "code",
   "execution_count": null,
   "metadata": {},
   "outputs": [],
   "source": [
    "a[1] = 2"
   ]
  },
  {
   "cell_type": "code",
   "execution_count": null,
   "metadata": {},
   "outputs": [],
   "source": [
    "a"
   ]
  },
  {
   "cell_type": "code",
   "execution_count": null,
   "metadata": {},
   "outputs": [],
   "source": [
    "a.sort()"
   ]
  },
  {
   "cell_type": "code",
   "execution_count": null,
   "metadata": {},
   "outputs": [],
   "source": [
    "a"
   ]
  },
  {
   "cell_type": "code",
   "execution_count": null,
   "metadata": {},
   "outputs": [],
   "source": [
    "a[1:3]"
   ]
  },
  {
   "cell_type": "markdown",
   "metadata": {},
   "source": [
    "On peut utiliser le mécanisme de *compréhension de liste* pour construire une liste facilement.  \n",
    "Par exemple, pour\n",
    "construire une liste contenant les carrés des valeurs comprises entre 1 et 5 :"
   ]
  },
  {
   "cell_type": "code",
   "execution_count": null,
   "metadata": {},
   "outputs": [],
   "source": [
    "[i for i in range(5)]\n",
    "# similar to list(i for i in range(5))\n",
    "# similar to list(range(5))"
   ]
  },
  {
   "cell_type": "code",
   "execution_count": null,
   "metadata": {},
   "outputs": [],
   "source": [
    "[str(i) for i in range(5)]"
   ]
  },
  {
   "cell_type": "code",
   "execution_count": null,
   "metadata": {},
   "outputs": [],
   "source": [
    "[i**2 for i in range(5)]"
   ]
  },
  {
   "cell_type": "code",
   "execution_count": null,
   "metadata": {},
   "outputs": [],
   "source": [
    "[i**2 for i in range(5) if i&1 == 0] # smarter than i%2 == 0 "
   ]
  },
  {
   "cell_type": "code",
   "execution_count": null,
   "metadata": {},
   "outputs": [],
   "source": [
    "[x.upper() for x in \"hello\"] # even with strings"
   ]
  },
  {
   "cell_type": "markdown",
   "metadata": {},
   "source": [
    "Rappelons également le constructeur `sorted` qui crée une liste triée à partir d'une structure itérable ou d'un générateur:"
   ]
  },
  {
   "cell_type": "code",
   "execution_count": null,
   "metadata": {},
   "outputs": [],
   "source": [
    "sorted(i**2 for i in range(-5, 5))"
   ]
  },
  {
   "cell_type": "markdown",
   "metadata": {},
   "source": [
    "### Ensembles"
   ]
  },
  {
   "cell_type": "code",
   "execution_count": null,
   "metadata": {},
   "outputs": [],
   "source": [
    "a = set()\n",
    "a.add(1)\n",
    "a.add(2)\n",
    "a.add(3)\n",
    "a.add(1)\n",
    "a"
   ]
  },
  {
   "cell_type": "code",
   "execution_count": null,
   "metadata": {},
   "outputs": [],
   "source": [
    "a.intersection({2, 3, 4}) # set theory "
   ]
  },
  {
   "cell_type": "code",
   "execution_count": null,
   "metadata": {},
   "outputs": [],
   "source": [
    "a.isdisjoint({4, 5})"
   ]
  },
  {
   "cell_type": "code",
   "execution_count": null,
   "metadata": {},
   "outputs": [],
   "source": [
    "[i == 2 for i in a] # list comprehension "
   ]
  },
  {
   "cell_type": "code",
   "execution_count": null,
   "metadata": {},
   "outputs": [],
   "source": [
    "set([1, 2, 4, 1]) # conversion "
   ]
  },
  {
   "cell_type": "markdown",
   "metadata": {},
   "source": [
    "### Dictionnaires"
   ]
  },
  {
   "cell_type": "code",
   "execution_count": null,
   "metadata": {},
   "outputs": [],
   "source": [
    "d = dict()\n",
    "d[1] = ('Ain', \"Bourg-en-Bresse\")\n",
    "d[2] = ('Aisne', \"Laon\")\n",
    "d"
   ]
  },
  {
   "cell_type": "code",
   "execution_count": null,
   "metadata": {},
   "outputs": [],
   "source": [
    "d[1]"
   ]
  },
  {
   "cell_type": "code",
   "execution_count": null,
   "metadata": {},
   "outputs": [],
   "source": [
    "d['1']"
   ]
  },
  {
   "cell_type": "code",
   "execution_count": null,
   "metadata": {},
   "outputs": [],
   "source": [
    "d"
   ]
  },
  {
   "cell_type": "code",
   "execution_count": null,
   "metadata": {},
   "outputs": [],
   "source": [
    "d.keys()"
   ]
  },
  {
   "cell_type": "code",
   "execution_count": null,
   "metadata": {},
   "outputs": [],
   "source": [
    "d.values()"
   ]
  },
  {
   "cell_type": "code",
   "execution_count": null,
   "metadata": {},
   "outputs": [],
   "source": [
    "d.items()"
   ]
  },
  {
   "cell_type": "code",
   "execution_count": null,
   "metadata": {},
   "outputs": [],
   "source": [
    "e = {}\n",
    "for key, value in d.items():\n",
    "    e[(\"%02d\" % key)] = value\n",
    "e # No order in dictionary in Python 3.5 (but ok in 3.6)"
   ]
  },
  {
   "cell_type": "code",
   "execution_count": null,
   "metadata": {},
   "outputs": [],
   "source": [
    "{(\"%02d\" % key):  value for key, value in d.items()}"
   ]
  },
  {
   "cell_type": "markdown",
   "metadata": {},
   "source": [
    "<div class=\"alert alert-warning\">\n",
    "<b>Exercice</b>: Construire <b>et documenter</b> une fonction qui calcule la liste des nombres premiers inférieurs ou égaux à n.\n",
    "</div>"
   ]
  },
  {
   "cell_type": "code",
   "execution_count": null,
   "metadata": {},
   "outputs": [],
   "source": [
    "# write your code here!\n",
    "def isprime(i):\n",
    "    for n in range(2,i):\n",
    "        if i%n==0:\n",
    "            return False\n",
    "    return True\n",
    "def primeListUntil(n):\n",
    "    return [i for i in range(1,n+1) if isprime(i)]\n",
    "primeListUntil(15)"
   ]
  },
  {
   "cell_type": "code",
   "execution_count": null,
   "metadata": {},
   "outputs": [],
   "source": [
    "# %load solutions/prime.py\n",
    "import math\n",
    "\n",
    "def prime(n):\n",
    "    \"\"\"Computes all prime numbers below n.\n",
    "    Computes the sieve of Eratosthenes\n",
    "    >>> prime(20)\n",
    "    {1, 2, 3, 5, 7, 11, 13, 17, 19}\n",
    "    \"\"\"\n",
    "    assert n > 0, \"Positive integers only\"\n",
    "    p = set(range(1, n))\n",
    "    for i in range(2, int(math.sqrt(n)) + 1):\n",
    "        p = p - set(x*i for x in range(2, n//i + 1))\n",
    "    return p\n",
    "\n",
    "if __name__ == '__main__':\n",
    "    import doctest\n",
    "    print (doctest.testmod())\n"
   ]
  },
  {
   "cell_type": "code",
   "execution_count": null,
   "metadata": {},
   "outputs": [],
   "source": [
    "\", \".join(str(i) for i in prime(100))"
   ]
  },
  {
   "cell_type": "markdown",
   "metadata": {},
   "source": [
    "\n",
    "<div class=\"alert alert-warning\">\n",
    "<b>Exercice:</b> Écrire un programme qui lit le fichier <code>00-lorem-ipsum.txt</code> et y compte le nombre d’occurrences de chaque mot.\n",
    "</div>\n",
    "\n",
    "On pourra partir du modèle suivant :\n",
    "```python\n",
    "with open(\"data/00-lorem-ipsum.txt\") as f:\n",
    "    print(f.readlines())\n",
    "```"
   ]
  },
  {
   "cell_type": "code",
   "execution_count": null,
   "metadata": {},
   "outputs": [],
   "source": [
    "# write your code here!\n"
   ]
  },
  {
   "cell_type": "code",
   "execution_count": null,
   "metadata": {},
   "outputs": [],
   "source": [
    "# %load solutions/lorem_ipsum.py\n"
   ]
  },
  {
   "cell_type": "code",
   "execution_count": null,
   "metadata": {},
   "outputs": [],
   "source": [
    "# %load solutions/lorem_ipsum_alt.py\n"
   ]
  },
  {
   "cell_type": "code",
   "execution_count": null,
   "metadata": {},
   "outputs": [],
   "source": [
    "# %load solutions/lorem_ipsum_alt2.py\n"
   ]
  },
  {
   "cell_type": "markdown",
   "metadata": {},
   "source": [
    "\n",
    "<div class=\"alert alert-success\" style=\"margin-top: 1em\">\n",
    "<b>Rappel</b> Tout l'art de la programmation Python consiste à choisir les bonnes structures de données. (voir par exemple la <a href=https://docs.python.org/fr/3.7/library/collections.html>page sur les collections</a>)\n",
    "</div>\n",
    "\n",
    "\n",
    "\n",
    "## La bibliothèque `numpy` de Python\n",
    "\n",
    "`numpy` est une extension du langage Python qui permet de manipuler des tableaux multi-dimensionnels et/ou des matrices.  \n",
    "Elle est souvent utilisée conjointement à l'extension `scipy` qui contient des outils relatifs:\n",
    "\n",
    "- aux intégrateurs numériques (`scipy.integrate`);\n",
    "- à l'algèbre linéaire (`scipy.linalg`);\n",
    "- etc.\n",
    "\n",
    "Des fonctionnalités simples illustrant le fonctionnement de `numpy` sont présentées ci-dessous.  \n",
    "En cas de souci, n'hésitez pas à vous référer à:\n",
    "\n",
    "- la documentation de `numpy` [ici](https://docs.scipy.org/doc/numpy/reference/);\n",
    "- la documentation de `scipy` [ici](https://docs.scipy.org/doc/scipy/reference/) pour ce que vous ne trouvez pas dans `numpy`."
   ]
  },
  {
   "cell_type": "code",
   "execution_count": null,
   "metadata": {},
   "outputs": [],
   "source": [
    "import numpy as np"
   ]
  },
  {
   "cell_type": "markdown",
   "metadata": {},
   "source": [
    "### Types des données embarquées\n",
    "\n",
    "On peut créer un tableau `numpy` à partir d'une structure itérable (tableau, tuple, liste) Python.  \n",
    "La puissance de `numpy` vient du fait que tous les éléments du tableau sont forcés au même type (le moins disant)."
   ]
  },
  {
   "cell_type": "code",
   "execution_count": null,
   "metadata": {},
   "outputs": [],
   "source": [
    "# Définition d'un tableau à partir d'une liste\n",
    "tableau = [2, 7.3, 4]\n",
    "print('>>> Liste Python: type %s' % type(tableau))\n",
    "for l in tableau:\n",
    "    print('{%s, %s}' % (l, type(l)), end=\" \")\n",
    "print()\n",
    "print()\n",
    "\n",
    "# Création d'un tableau numpy\n",
    "tableau = np.array(tableau)\n",
    "print('>>> Tableau numpy: type %s' % type(tableau))\n",
    "for l in tableau:\n",
    "    print('{%s, %s}' % (l, type(l)), end=\" \")\n",
    "print()\n",
    "\n",
    "print('On retrouve alors le type de chaque élément dans dtype: %s' % tableau.dtype)"
   ]
  },
  {
   "cell_type": "markdown",
   "metadata": {},
   "source": [
    "### Performance\n",
    "\n",
    "On reproche souvent à Python d'être lent à l'exécution. C'est dû à de nombreux paramètres, notamment la flexibilité du langage, les nombreuses vérifications faites à notre insu (Python ne présume de rien sur vos données), et surtout au **typage dynamique**.  \n",
    "Avec `numpy`, on connaît désormais une fois pour toute le type de chaque élément du tableau; de plus les opérations mathématiques sur ces tableaux sont alors codées en C (rapide!)\n",
    "\n",
    "Observez plutôt:"
   ]
  },
  {
   "cell_type": "code",
   "execution_count": null,
   "metadata": {},
   "outputs": [],
   "source": [
    "tableau = [i for i in range(1, 10000000)]\n",
    "array = np.array(tableau)"
   ]
  },
  {
   "cell_type": "code",
   "execution_count": null,
   "metadata": {},
   "outputs": [],
   "source": [
    "%timeit double = [x * 2 for x in tableau]"
   ]
  },
  {
   "cell_type": "code",
   "execution_count": null,
   "metadata": {},
   "outputs": [],
   "source": [
    "%timeit double = array * 2"
   ]
  },
  {
   "cell_type": "markdown",
   "metadata": {},
   "source": [
    "### Vues sur des sous-ensembles du tableau\n",
    "\n",
    "Il est possible avec `numpy` de travailler sur des vues d'un tableau à $n$ dimensions qu'on aura construit.  \n",
    "On emploie ici le mot **vue** parce qu'une modification des données dans la vue modifie les données dans le tableau d'origine.\n",
    "\n",
    "Observons plutôt:"
   ]
  },
  {
   "cell_type": "code",
   "execution_count": null,
   "metadata": {},
   "outputs": [],
   "source": [
    "tableau = np.array([[i+2*j for i in range(5)] for j in range(4)])\n",
    "print(tableau)"
   ]
  },
  {
   "cell_type": "code",
   "execution_count": null,
   "metadata": {},
   "outputs": [],
   "source": [
    "# On affiche les lignes d'indices 0 à 1 (< 2), colonnes d'indices 2 à 3 (< 4)\n",
    "sub = tableau[0:2, 2:4]\n",
    "print(sub)"
   ]
  },
  {
   "cell_type": "code",
   "execution_count": null,
   "metadata": {},
   "outputs": [],
   "source": [
    "# L'absence d'indice signifie \"début\" ou \"fin\"\n",
    "sub = tableau[:3, 2:]\n",
    "print(sub)"
   ]
  },
  {
   "cell_type": "code",
   "execution_count": null,
   "metadata": {},
   "outputs": [],
   "source": [
    "# On modifie sub\n",
    "sub *= 0\n",
    "print(sub)"
   ]
  },
  {
   "cell_type": "markdown",
   "metadata": {},
   "source": [
    "<div class=\"alert alert-danger\">\n",
    "<b>Attention</b>: voici pourquoi on parlait de vue !\n",
    "</div>"
   ]
  },
  {
   "cell_type": "code",
   "execution_count": null,
   "metadata": {},
   "outputs": [],
   "source": [
    "print(tableau)"
   ]
  },
  {
   "cell_type": "markdown",
   "metadata": {},
   "source": [
    "### Opérations matricielles\n",
    "\n",
    "`numpy` donne accès aux opérations matricielles de base."
   ]
  },
  {
   "cell_type": "code",
   "execution_count": null,
   "metadata": {},
   "outputs": [],
   "source": [
    "a = np.array([[4,6,7,6]])\n",
    "b = np.array([[i+j for i in range(5)] for j in range(4)])\n",
    "\n",
    "print(a.shape, a, sep=\"\\n\")\n",
    "print()\n",
    "print(b.shape, b, sep=\"\\n\")"
   ]
  },
  {
   "cell_type": "code",
   "execution_count": null,
   "metadata": {},
   "outputs": [],
   "source": [
    "# Produit matriciel (ou vectoriel)\n",
    "print(np.dot (a, b))"
   ]
  },
  {
   "cell_type": "markdown",
   "metadata": {},
   "source": [
    "<div class=\"alert alert-danger\">\n",
    "<b>Attention</b>: Contrairement à Matlab, les opérateurs arithmétiques +, -, * sont des opérations terme à terme.\n",
    "</div>\n",
    "\n",
    "Pour bien comprendre la différence:"
   ]
  },
  {
   "cell_type": "code",
   "execution_count": null,
   "metadata": {},
   "outputs": [],
   "source": [
    "import numpy.linalg\n",
    "\n",
    "a = np.array([[abs(i-j) for i in range(5)] for j in range(5)])\n",
    "inv_a = numpy.linalg.inv(a) # L'inverse\n",
    "print(a)\n",
    "print(inv_a)"
   ]
  },
  {
   "cell_type": "code",
   "execution_count": null,
   "metadata": {},
   "outputs": [],
   "source": [
    "print(inv_a * a)\n",
    "print(\"\\nDiantre!!\")"
   ]
  },
  {
   "cell_type": "code",
   "execution_count": null,
   "metadata": {},
   "outputs": [],
   "source": [
    "print(np.dot(inv_a, a))\n",
    "print(\"\\nC'est si facile de se faire avoir...\")"
   ]
  },
  {
   "cell_type": "markdown",
   "metadata": {},
   "source": [
    "<div class=\"alert alert-success\">\n",
    "<b>Note</b>: Depuis Python 3.5, l'opérateur @ est utilisable pour la multiplication de matrice.\n",
    "</div>"
   ]
  },
  {
   "cell_type": "code",
   "execution_count": null,
   "metadata": {},
   "outputs": [],
   "source": [
    "print(inv_a @ a)"
   ]
  },
  {
   "cell_type": "markdown",
   "metadata": {},
   "source": [
    "# La bibliothèque `matplotlib` de Python\n",
    "\n",
    "`matplotlib` propose un ensemble de commandes qui permettent d'afficher des données de manière graphique, d'afficher des lignes, de remplir des zones avec des couleurs, d'ajouter du texte, etc.\n",
    "\n",
    "L'instruction `%matplotlib inline` avant l'import permet de rediriger la sortie graphique vers le notebook."
   ]
  },
  {
   "cell_type": "code",
   "execution_count": null,
   "metadata": {},
   "outputs": [],
   "source": [
    "%matplotlib inline\n",
    "import matplotlib.pyplot as plt"
   ]
  },
  {
   "cell_type": "markdown",
   "metadata": {},
   "source": [
    "L'instruction `plot` prend une série de points en abscisses et une série de points en ordonnées:"
   ]
  },
  {
   "cell_type": "code",
   "execution_count": null,
   "metadata": {},
   "outputs": [],
   "source": [
    "plt.plot([1, 2, 3, 4], [1, 4, 9, 16])"
   ]
  },
  {
   "cell_type": "markdown",
   "metadata": {},
   "source": [
    "Il y a un style par défaut qui est choisi de manière automatique, mais il est possible de sélectionner:\n",
    "    \n",
    "- les couleurs;\n",
    "- le style des points de données;\n",
    "- la longueur des axes;\n",
    "- etc."
   ]
  },
  {
   "cell_type": "code",
   "execution_count": null,
   "metadata": {},
   "outputs": [],
   "source": [
    "plt.plot([1, 2, 3, 4], [1, 4, 9, 16], 'ro-')\n",
    "plt.xlim(0, 6)\n",
    "plt.ylim(0, 20)\n",
    "plt.xlabel(\"Temps\")\n",
    "plt.ylabel(\"Argent\")"
   ]
  },
  {
   "cell_type": "markdown",
   "metadata": {},
   "source": [
    "Il est recommandé d'utiliser `matplotlib` avec des tableaux `numpy`."
   ]
  },
  {
   "cell_type": "code",
   "execution_count": null,
   "metadata": {},
   "outputs": [],
   "source": [
    "# échantillon à 200ms d'intervalle\n",
    "t = np.arange(0., 5., 0.2)\n",
    "\n",
    "# red dashes, blue squares and green triangles\n",
    "plt.plot(t, t, 'r--', t, t**2, 'bs', t, t**3, 'g^')"
   ]
  },
  {
   "cell_type": "markdown",
   "metadata": {},
   "source": [
    "Enfin il est possible d'afficher plusieurs graphes côte à côte.  \n",
    "Notez que l'on peut également gérer la taille de la figure (bitmap) produite."
   ]
  },
  {
   "cell_type": "code",
   "execution_count": null,
   "metadata": {},
   "outputs": [],
   "source": [
    "fig, ax = plt.subplots(ncols=2, nrows=2, figsize=(10, 10))\n",
    "\n",
    "# Vous pouvez choisir des palettes de couleurs « jolies » avec des sites comme celui-ci :\n",
    "# http://paletton.com/#uid=7000u0kllllaFw0g0qFqFg0w0aF\n",
    "\n",
    "ax[0,0].plot(t, np.sin(t), '#aa3939')\n",
    "ax[0,1].plot(t, np.cos(t), '#aa6c39')\n",
    "ax[1,0].plot(t, np.tan(t), '#226666')\n",
    "ax[1,1].plot(t, np.sqrt(t), '#2d882d')"
   ]
  },
  {
   "cell_type": "markdown",
   "metadata": {},
   "source": [
    "Un bon réflexe semble être de commencer tous les plots par:\n",
    "\n",
    "```python\n",
    "fig, ax = plt.subplots()\n",
    "```\n"
   ]
  },
  {
   "cell_type": "markdown",
   "metadata": {},
   "source": [
    "<div class=\"alert alert-warning\">\n",
    "<b>Exercice:</b> Tracer le graphe de la fonction $t \\mapsto e^{-t} \\cdot \\cos(2\\,\\pi\\,t)$ pour $t\\in[0,5]$\n",
    "</div>"
   ]
  },
  {
   "cell_type": "code",
   "execution_count": null,
   "metadata": {},
   "outputs": [],
   "source": []
  },
  {
   "cell_type": "markdown",
   "metadata": {},
   "source": [
    "<div class=\"alert alert-warning\">\n",
    "<b>Exercice:</b> À partir des coordonnées polaires, produire les coordonnées $(x,y)$ pour la fonction $r=\\sin(5\\,\\theta)$, puis les tracer.\n",
    "</div>\n",
    "\n",
    "<b>Consigne</b> : n'utiliser que des tableaux et des fonctions `numpy` pour produire les données à tracer."
   ]
  },
  {
   "cell_type": "code",
   "execution_count": null,
   "metadata": {},
   "outputs": [],
   "source": []
  }
 ],
 "metadata": {
  "kernelspec": {
   "display_name": "Python 3",
   "language": "python",
   "name": "python3"
  },
  "language_info": {
   "codemirror_mode": {
    "name": "ipython",
    "version": 3
   },
   "file_extension": ".py",
   "mimetype": "text/x-python",
   "name": "python",
   "nbconvert_exporter": "python",
   "pygments_lexer": "ipython3",
   "version": "3.7.1"
  },
  "widgets": {
   "state": {},
   "version": "1.1.2"
  }
 },
 "nbformat": 4,
 "nbformat_minor": 4
}
